{
  "nbformat": 4,
  "nbformat_minor": 0,
  "metadata": {
    "colab": {
      "name": "Using_Keras_to_analyze_IMDB_Movie_Data.ipynb",
      "provenance": [],
      "include_colab_link": true
    },
    "kernelspec": {
      "name": "python3",
      "display_name": "Python 3"
    }
  },
  "cells": [
    {
      "cell_type": "markdown",
      "metadata": {
        "id": "view-in-github",
        "colab_type": "text"
      },
      "source": [
        "<a href=\"https://colab.research.google.com/github/tiagoeude/Using_Keras_to_analyze_IMDB_Movie_Data/blob/master/Using_Keras_to_analyze_IMDB_Movie_Data.ipynb\" target=\"_parent\"><img src=\"https://colab.research.google.com/assets/colab-badge.svg\" alt=\"Open In Colab\"/></a>"
      ]
    },
    {
      "cell_type": "markdown",
      "metadata": {
        "id": "mIpJd3RdjMn0",
        "colab_type": "text"
      },
      "source": [
        "## Loading the data\n",
        "\n",
        "The data comes preloaded in Keras, which means we don't need to open or read any files manually. The command to load it is the following, which will actually split the words into training and testing sets and labels!:"
      ]
    },
    {
      "cell_type": "code",
      "metadata": {
        "id": "ya5e6weNfHsP",
        "colab_type": "code",
        "colab": {}
      },
      "source": [
        "import numpy as np\n",
        "import keras\n",
        "from keras.models import Sequential\n",
        "from keras.layers import Dense, Activation, Dropout\n",
        "from keras.datasets import imdb\n",
        "from keras.preprocessing.text import Tokenizer\n",
        "import matplotlib.pyplot as plt\n",
        "%matplotlib inline\n",
        "\n",
        "(X_train, y_train), (X_test, y_test) = imdb.load_data(path=\"imdb.npz\",\n",
        "                                                     num_words=None,\n",
        "                                                     skip_top=0,\n",
        "                                                     maxlen=None,\n",
        "                                                     seed=113,\n",
        "                                                     start_char=1,\n",
        "                                                     oov_char=2,\n",
        "                                                     index_from=3)"
      ],
      "execution_count": 0,
      "outputs": []
    },
    {
      "cell_type": "markdown",
      "metadata": {
        "id": "ICeL0NdedT82",
        "colab_type": "text"
      },
      "source": [
        "## One-hot encoding the output\n",
        "\n",
        "Here, we'll turn the input vectors into (0,1)-vectors. For example, if the pre-processed vector contains the number 14, then in the processed vector, the 14th entry will be 1."
      ]
    },
    {
      "cell_type": "code",
      "metadata": {
        "id": "Re1U7kZadWnu",
        "colab_type": "code",
        "outputId": "30ff8eeb-2576-4fe4-af06-4030046ca64a",
        "colab": {
          "base_uri": "https://localhost:8080/",
          "height": 731
        }
      },
      "source": [
        "# One-hot encoding the intput into vector mode, each of length 1000\n",
        "tokenizer = Tokenizer(num_words=1000)\n",
        "X_train = tokenizer.sequences_to_matrix(X_train, mode='binary')\n",
        "X_test = tokenizer.sequences_to_matrix(X_test, mode='binary')\n",
        "print(X_train_encoder[0])"
      ],
      "execution_count": 61,
      "outputs": [
        {
          "output_type": "stream",
          "text": [
            "[0. 1. 0. 0. 1. 1. 1. 1. 1. 1. 0. 0. 1. 1. 1. 1. 1. 1. 1. 1. 0. 1. 1. 0.\n",
            " 0. 1. 1. 0. 1. 0. 1. 0. 1. 1. 0. 1. 1. 0. 1. 1. 0. 0. 0. 1. 0. 0. 1. 0.\n",
            " 1. 0. 1. 1. 1. 0. 0. 0. 1. 0. 0. 0. 0. 0. 1. 0. 0. 1. 1. 0. 0. 0. 0. 1.\n",
            " 0. 0. 0. 0. 1. 1. 0. 0. 0. 0. 1. 0. 0. 0. 0. 1. 1. 0. 0. 0. 1. 0. 0. 0.\n",
            " 0. 0. 1. 0. 1. 0. 0. 1. 1. 0. 1. 1. 0. 0. 0. 0. 1. 1. 0. 0. 0. 1. 0. 0.\n",
            " 0. 0. 0. 0. 1. 0. 0. 0. 0. 0. 1. 0. 0. 0. 1. 1. 0. 0. 0. 0. 0. 1. 0. 0.\n",
            " 1. 0. 0. 1. 0. 0. 1. 0. 0. 0. 0. 0. 0. 0. 0. 0. 0. 0. 0. 0. 0. 0. 0. 1.\n",
            " 0. 0. 0. 0. 1. 1. 0. 0. 0. 0. 1. 0. 0. 0. 0. 0. 0. 0. 0. 0. 0. 0. 0. 0.\n",
            " 1. 0. 1. 0. 0. 0. 0. 0. 0. 0. 0. 0. 0. 0. 0. 0. 0. 0. 0. 0. 0. 0. 0. 1.\n",
            " 0. 0. 0. 0. 0. 0. 0. 0. 1. 0. 1. 0. 0. 0. 0. 0. 0. 0. 0. 0. 0. 0. 0. 0.\n",
            " 0. 0. 0. 0. 0. 0. 0. 0. 0. 0. 0. 0. 0. 0. 0. 0. 1. 0. 0. 0. 0. 0. 0. 0.\n",
            " 0. 0. 0. 0. 0. 0. 0. 0. 0. 0. 0. 0. 0. 0. 0. 0. 0. 0. 0. 1. 1. 0. 0. 0.\n",
            " 0. 0. 0. 0. 0. 0. 0. 0. 0. 1. 0. 0. 0. 0. 0. 0. 0. 0. 0. 0. 0. 0. 0. 0.\n",
            " 0. 0. 0. 0. 1. 1. 0. 0. 0. 0. 0. 0. 0. 0. 0. 0. 0. 0. 0. 0. 0. 0. 0. 0.\n",
            " 1. 0. 0. 0. 0. 0. 0. 0. 0. 0. 0. 0. 0. 0. 0. 0. 0. 0. 0. 0. 0. 0. 0. 0.\n",
            " 0. 0. 0. 0. 0. 0. 0. 0. 0. 0. 0. 0. 0. 0. 0. 0. 0. 0. 0. 0. 0. 1. 0. 0.\n",
            " 0. 1. 1. 0. 0. 0. 0. 0. 0. 0. 0. 0. 0. 0. 0. 0. 1. 0. 0. 0. 0. 0. 0. 1.\n",
            " 0. 0. 0. 0. 0. 0. 0. 0. 0. 0. 0. 0. 0. 0. 0. 0. 0. 0. 0. 0. 0. 0. 0. 0.\n",
            " 0. 0. 0. 0. 0. 0. 0. 0. 0. 0. 0. 0. 0. 0. 0. 1. 0. 0. 0. 0. 0. 0. 0. 0.\n",
            " 0. 0. 1. 0. 0. 0. 0. 0. 0. 0. 0. 0. 0. 1. 0. 0. 0. 0. 0. 0. 1. 0. 0. 0.\n",
            " 1. 0. 0. 0. 0. 0. 0. 0. 0. 0. 0. 0. 0. 0. 0. 0. 0. 0. 0. 0. 0. 0. 0. 0.\n",
            " 0. 0. 0. 0. 0. 0. 0. 0. 0. 0. 0. 1. 0. 0. 0. 0. 0. 0. 0. 0. 0. 0. 0. 0.\n",
            " 0. 0. 1. 0. 0. 0. 0. 0. 0. 0. 0. 0. 0. 0. 0. 0. 0. 0. 1. 0. 0. 0. 0. 0.\n",
            " 0. 0. 0. 0. 0. 0. 0. 0. 0. 0. 0. 0. 0. 0. 0. 0. 0. 0. 0. 0. 0. 0. 0. 0.\n",
            " 0. 0. 0. 0. 0. 0. 0. 0. 0. 0. 0. 0. 0. 0. 0. 0. 0. 0. 0. 0. 0. 0. 0. 0.\n",
            " 0. 0. 0. 0. 0. 0. 0. 0. 0. 0. 0. 0. 0. 0. 0. 0. 0. 0. 0. 1. 0. 0. 0. 0.\n",
            " 0. 0. 1. 0. 0. 0. 0. 0. 0. 0. 0. 0. 0. 0. 0. 0. 0. 0. 0. 0. 0. 0. 0. 0.\n",
            " 0. 0. 0. 0. 0. 0. 0. 0. 0. 0. 0. 0. 0. 0. 0. 0. 0. 0. 0. 0. 0. 0. 1. 0.\n",
            " 0. 0. 0. 0. 0. 0. 0. 0. 0. 0. 0. 0. 0. 0. 0. 0. 0. 0. 0. 0. 0. 0. 0. 0.\n",
            " 0. 0. 0. 0. 0. 0. 0. 0. 0. 0. 0. 0. 0. 0. 0. 0. 0. 0. 0. 0. 0. 0. 0. 0.\n",
            " 0. 0. 0. 1. 0. 0. 0. 0. 0. 0. 0. 0. 0. 0. 0. 0. 0. 0. 0. 0. 0. 0. 0. 0.\n",
            " 0. 0. 0. 0. 0. 0. 0. 0. 0. 0. 0. 0. 0. 0. 0. 0. 0. 0. 0. 0. 0. 0. 0. 0.\n",
            " 0. 0. 0. 0. 0. 0. 0. 0. 0. 0. 0. 0. 0. 0. 0. 0. 0. 0. 0. 0. 0. 0. 0. 0.\n",
            " 0. 0. 0. 0. 0. 0. 0. 0. 0. 0. 0. 0. 0. 0. 0. 0. 0. 0. 0. 0. 0. 0. 0. 0.\n",
            " 0. 0. 0. 0. 0. 0. 0. 0. 0. 0. 0. 0. 0. 0. 0. 0. 0. 0. 0. 0. 0. 0. 1. 0.\n",
            " 0. 0. 0. 0. 0. 0. 0. 0. 0. 0. 0. 0. 0. 0. 0. 0. 0. 0. 0. 0. 0. 0. 0. 0.\n",
            " 0. 0. 0. 0. 0. 0. 0. 0. 0. 0. 0. 0. 0. 0. 0. 0. 0. 0. 0. 0. 0. 0. 0. 0.\n",
            " 0. 0. 0. 0. 0. 0. 0. 0. 0. 0. 0. 0. 0. 0. 0. 0. 0. 0. 0. 0. 0. 0. 0. 0.\n",
            " 0. 0. 0. 0. 0. 0. 0. 0. 0. 0. 0. 0. 0. 0. 0. 0. 0. 0. 0. 0. 0. 0. 0. 0.\n",
            " 0. 0. 0. 0. 0. 0. 0. 0. 0. 0. 0. 0. 0. 0. 0. 0. 0. 0. 0. 0. 0. 0. 0. 0.\n",
            " 0. 0. 0. 0. 0. 0. 0. 0. 0. 0. 0. 0. 0. 1. 0. 0. 0. 0. 0. 0. 0. 0. 0. 0.\n",
            " 0. 0. 0. 0. 0. 0. 0. 0. 0. 0. 0. 0. 0. 0. 0. 0.]\n"
          ],
          "name": "stdout"
        }
      ]
    },
    {
      "cell_type": "code",
      "metadata": {
        "id": "QBwiY4wXeV54",
        "colab_type": "code",
        "outputId": "9de43ff7-8428-4a49-c01e-c4c6ce2f7dfa",
        "colab": {
          "base_uri": "https://localhost:8080/",
          "height": 51
        }
      },
      "source": [
        "# One-hot encoding the output\n",
        "num_classes = 2\n",
        "y_train = keras.utils.to_categorical(y_train, num_classes)\n",
        "y_test = keras.utils.to_categorical(y_test, num_classes)\n",
        "print(y_train.shape)\n",
        "print(y_test.shape)"
      ],
      "execution_count": 62,
      "outputs": [
        {
          "output_type": "stream",
          "text": [
            "(25000, 2)\n",
            "(25000, 2)\n"
          ],
          "name": "stdout"
        }
      ]
    },
    {
      "cell_type": "markdown",
      "metadata": {
        "id": "8ZurV0APj7x5",
        "colab_type": "text"
      },
      "source": [
        "## Building the model"
      ]
    },
    {
      "cell_type": "code",
      "metadata": {
        "id": "zbZ8XckXj_IP",
        "colab_type": "code",
        "outputId": "843f162d-c2e2-45a0-ee5b-b8fdfedc4128",
        "colab": {
          "base_uri": "https://localhost:8080/",
          "height": 255
        }
      },
      "source": [
        "# Building the model architecture with one layer\n",
        "model = Sequential()\n",
        "model.add(Dense(500, activation='relu', input_dim=1000))\n",
        "model.add(Dropout(0.5))\n",
        "model.add(Dense(2, activation='softmax'))\n",
        "model.summary()\n",
        "\n",
        "# Compiling the model using categorical_crossentropy loss, and rmsprop optimizer.\n",
        "model.compile(loss='categorical_crossentropy', optimizer='rmsprop', metrics=['accuracy'])"
      ],
      "execution_count": 63,
      "outputs": [
        {
          "output_type": "stream",
          "text": [
            "Model: \"sequential_11\"\n",
            "_________________________________________________________________\n",
            "Layer (type)                 Output Shape              Param #   \n",
            "=================================================================\n",
            "dense_12 (Dense)             (None, 500)               500500    \n",
            "_________________________________________________________________\n",
            "dropout_6 (Dropout)          (None, 500)               0         \n",
            "_________________________________________________________________\n",
            "dense_13 (Dense)             (None, 2)                 1002      \n",
            "=================================================================\n",
            "Total params: 501,502\n",
            "Trainable params: 501,502\n",
            "Non-trainable params: 0\n",
            "_________________________________________________________________\n"
          ],
          "name": "stdout"
        }
      ]
    },
    {
      "cell_type": "markdown",
      "metadata": {
        "id": "Yc7BwNG6mhYM",
        "colab_type": "text"
      },
      "source": [
        "## Trainning the model"
      ]
    },
    {
      "cell_type": "code",
      "metadata": {
        "id": "yAYHd888mkS-",
        "colab_type": "code",
        "outputId": "10d36226-4e28-43d9-f77b-74afc2a88828",
        "colab": {
          "base_uri": "https://localhost:8080/",
          "height": 1000
        }
      },
      "source": [
        "# Running and evaluating the model\n",
        "hist = model.fit(X_train, y_train,\n",
        "                batch_size=32,\n",
        "                epochs=100,\n",
        "                validation_data=(X_test, y_test), \n",
        "                verbose=2)"
      ],
      "execution_count": 64,
      "outputs": [
        {
          "output_type": "stream",
          "text": [
            "Train on 25000 samples, validate on 25000 samples\n",
            "Epoch 1/100\n",
            " - 8s - loss: 0.3965 - acc: 0.8256 - val_loss: 0.3825 - val_acc: 0.8396\n",
            "Epoch 2/100\n",
            " - 8s - loss: 0.3304 - acc: 0.8688 - val_loss: 0.3560 - val_acc: 0.8606\n",
            "Epoch 3/100\n",
            " - 7s - loss: 0.3218 - acc: 0.8770 - val_loss: 0.3616 - val_acc: 0.8592\n",
            "Epoch 4/100\n",
            " - 7s - loss: 0.3113 - acc: 0.8842 - val_loss: 0.3650 - val_acc: 0.8613\n",
            "Epoch 5/100\n",
            " - 7s - loss: 0.3025 - acc: 0.8906 - val_loss: 0.3892 - val_acc: 0.8580\n",
            "Epoch 6/100\n",
            " - 7s - loss: 0.2971 - acc: 0.8994 - val_loss: 0.3964 - val_acc: 0.8613\n",
            "Epoch 7/100\n",
            " - 8s - loss: 0.2860 - acc: 0.9019 - val_loss: 0.4258 - val_acc: 0.8578\n",
            "Epoch 8/100\n",
            " - 8s - loss: 0.2759 - acc: 0.9080 - val_loss: 0.4390 - val_acc: 0.8556\n",
            "Epoch 9/100\n",
            " - 7s - loss: 0.2677 - acc: 0.9148 - val_loss: 0.4847 - val_acc: 0.8514\n",
            "Epoch 10/100\n",
            " - 7s - loss: 0.2526 - acc: 0.9210 - val_loss: 0.4947 - val_acc: 0.8548\n",
            "Epoch 11/100\n",
            " - 7s - loss: 0.2407 - acc: 0.9278 - val_loss: 0.4985 - val_acc: 0.8556\n",
            "Epoch 12/100\n",
            " - 8s - loss: 0.2300 - acc: 0.9320 - val_loss: 0.5302 - val_acc: 0.8566\n",
            "Epoch 13/100\n",
            " - 8s - loss: 0.2238 - acc: 0.9373 - val_loss: 0.5644 - val_acc: 0.8520\n",
            "Epoch 14/100\n",
            " - 8s - loss: 0.2085 - acc: 0.9417 - val_loss: 0.5871 - val_acc: 0.8560\n",
            "Epoch 15/100\n",
            " - 8s - loss: 0.2009 - acc: 0.9450 - val_loss: 0.6021 - val_acc: 0.8555\n",
            "Epoch 16/100\n",
            " - 8s - loss: 0.1985 - acc: 0.9475 - val_loss: 0.6262 - val_acc: 0.8543\n",
            "Epoch 17/100\n",
            " - 7s - loss: 0.1852 - acc: 0.9515 - val_loss: 0.6606 - val_acc: 0.8542\n",
            "Epoch 18/100\n",
            " - 7s - loss: 0.1849 - acc: 0.9551 - val_loss: 0.6627 - val_acc: 0.8526\n",
            "Epoch 19/100\n",
            " - 7s - loss: 0.1714 - acc: 0.9583 - val_loss: 0.7053 - val_acc: 0.8496\n",
            "Epoch 20/100\n",
            " - 7s - loss: 0.1755 - acc: 0.9582 - val_loss: 0.7146 - val_acc: 0.8506\n",
            "Epoch 21/100\n",
            " - 7s - loss: 0.1635 - acc: 0.9598 - val_loss: 0.7293 - val_acc: 0.8532\n",
            "Epoch 22/100\n",
            " - 8s - loss: 0.1607 - acc: 0.9617 - val_loss: 0.7331 - val_acc: 0.8535\n",
            "Epoch 23/100\n",
            " - 8s - loss: 0.1491 - acc: 0.9650 - val_loss: 0.7786 - val_acc: 0.8479\n",
            "Epoch 24/100\n",
            " - 8s - loss: 0.1523 - acc: 0.9654 - val_loss: 0.8064 - val_acc: 0.8469\n",
            "Epoch 25/100\n",
            " - 7s - loss: 0.1433 - acc: 0.9668 - val_loss: 0.8129 - val_acc: 0.8522\n",
            "Epoch 26/100\n",
            " - 8s - loss: 0.1535 - acc: 0.9674 - val_loss: 0.8014 - val_acc: 0.8510\n",
            "Epoch 27/100\n",
            " - 7s - loss: 0.1373 - acc: 0.9702 - val_loss: 0.8186 - val_acc: 0.8525\n",
            "Epoch 28/100\n",
            " - 7s - loss: 0.1393 - acc: 0.9705 - val_loss: 0.8176 - val_acc: 0.8524\n",
            "Epoch 29/100\n",
            " - 7s - loss: 0.1324 - acc: 0.9726 - val_loss: 0.8280 - val_acc: 0.8524\n",
            "Epoch 30/100\n",
            " - 7s - loss: 0.1301 - acc: 0.9730 - val_loss: 0.8593 - val_acc: 0.8501\n",
            "Epoch 31/100\n",
            " - 7s - loss: 0.1290 - acc: 0.9738 - val_loss: 0.8796 - val_acc: 0.8501\n",
            "Epoch 32/100\n",
            " - 7s - loss: 0.1292 - acc: 0.9753 - val_loss: 0.8803 - val_acc: 0.8505\n",
            "Epoch 33/100\n",
            " - 7s - loss: 0.1287 - acc: 0.9737 - val_loss: 0.8805 - val_acc: 0.8506\n",
            "Epoch 34/100\n",
            " - 7s - loss: 0.1220 - acc: 0.9761 - val_loss: 0.9142 - val_acc: 0.8530\n",
            "Epoch 35/100\n",
            " - 7s - loss: 0.1224 - acc: 0.9766 - val_loss: 0.9168 - val_acc: 0.8514\n",
            "Epoch 36/100\n",
            " - 7s - loss: 0.1097 - acc: 0.9785 - val_loss: 0.9207 - val_acc: 0.8494\n",
            "Epoch 37/100\n",
            " - 8s - loss: 0.1127 - acc: 0.9780 - val_loss: 0.9466 - val_acc: 0.8525\n",
            "Epoch 38/100\n",
            " - 7s - loss: 0.1155 - acc: 0.9788 - val_loss: 0.9541 - val_acc: 0.8509\n",
            "Epoch 39/100\n",
            " - 8s - loss: 0.1213 - acc: 0.9794 - val_loss: 0.9485 - val_acc: 0.8492\n",
            "Epoch 40/100\n",
            " - 7s - loss: 0.1162 - acc: 0.9795 - val_loss: 0.9533 - val_acc: 0.8504\n",
            "Epoch 41/100\n",
            " - 8s - loss: 0.1168 - acc: 0.9803 - val_loss: 0.9588 - val_acc: 0.8484\n",
            "Epoch 42/100\n",
            " - 7s - loss: 0.1077 - acc: 0.9810 - val_loss: 0.9599 - val_acc: 0.8485\n",
            "Epoch 43/100\n",
            " - 7s - loss: 0.1167 - acc: 0.9804 - val_loss: 0.9707 - val_acc: 0.8484\n",
            "Epoch 44/100\n",
            " - 7s - loss: 0.1068 - acc: 0.9814 - val_loss: 1.0037 - val_acc: 0.8471\n",
            "Epoch 45/100\n",
            " - 7s - loss: 0.1137 - acc: 0.9813 - val_loss: 0.9786 - val_acc: 0.8492\n",
            "Epoch 46/100\n",
            " - 8s - loss: 0.1122 - acc: 0.9812 - val_loss: 0.9919 - val_acc: 0.8460\n",
            "Epoch 47/100\n",
            " - 8s - loss: 0.1032 - acc: 0.9835 - val_loss: 0.9801 - val_acc: 0.8472\n",
            "Epoch 48/100\n",
            " - 8s - loss: 0.0904 - acc: 0.9840 - val_loss: 1.0009 - val_acc: 0.8466\n",
            "Epoch 49/100\n",
            " - 8s - loss: 0.1084 - acc: 0.9828 - val_loss: 1.0025 - val_acc: 0.8484\n",
            "Epoch 50/100\n",
            " - 8s - loss: 0.0998 - acc: 0.9833 - val_loss: 0.9922 - val_acc: 0.8466\n",
            "Epoch 51/100\n",
            " - 8s - loss: 0.1124 - acc: 0.9830 - val_loss: 0.9917 - val_acc: 0.8481\n",
            "Epoch 52/100\n",
            " - 8s - loss: 0.0971 - acc: 0.9843 - val_loss: 1.0192 - val_acc: 0.8463\n",
            "Epoch 53/100\n",
            " - 8s - loss: 0.1084 - acc: 0.9836 - val_loss: 1.0372 - val_acc: 0.8480\n",
            "Epoch 54/100\n",
            " - 8s - loss: 0.1056 - acc: 0.9843 - val_loss: 1.0270 - val_acc: 0.8484\n",
            "Epoch 55/100\n",
            " - 8s - loss: 0.0964 - acc: 0.9846 - val_loss: 1.0384 - val_acc: 0.8474\n",
            "Epoch 56/100\n",
            " - 8s - loss: 0.1008 - acc: 0.9852 - val_loss: 1.0355 - val_acc: 0.8478\n",
            "Epoch 57/100\n",
            " - 8s - loss: 0.1044 - acc: 0.9844 - val_loss: 1.0780 - val_acc: 0.8416\n",
            "Epoch 58/100\n",
            " - 8s - loss: 0.0961 - acc: 0.9852 - val_loss: 1.0307 - val_acc: 0.8494\n",
            "Epoch 59/100\n",
            " - 7s - loss: 0.0987 - acc: 0.9860 - val_loss: 1.0370 - val_acc: 0.8480\n",
            "Epoch 60/100\n",
            " - 8s - loss: 0.0900 - acc: 0.9864 - val_loss: 1.0662 - val_acc: 0.8441\n",
            "Epoch 61/100\n",
            " - 8s - loss: 0.1037 - acc: 0.9854 - val_loss: 1.0692 - val_acc: 0.8473\n",
            "Epoch 62/100\n",
            " - 7s - loss: 0.0917 - acc: 0.9862 - val_loss: 1.0695 - val_acc: 0.8460\n",
            "Epoch 63/100\n",
            " - 8s - loss: 0.0937 - acc: 0.9867 - val_loss: 1.0841 - val_acc: 0.8458\n",
            "Epoch 64/100\n",
            " - 8s - loss: 0.0963 - acc: 0.9862 - val_loss: 1.0661 - val_acc: 0.8451\n",
            "Epoch 65/100\n",
            " - 7s - loss: 0.0913 - acc: 0.9863 - val_loss: 1.0757 - val_acc: 0.8462\n",
            "Epoch 66/100\n",
            " - 7s - loss: 0.0926 - acc: 0.9874 - val_loss: 1.1086 - val_acc: 0.8461\n",
            "Epoch 67/100\n",
            " - 7s - loss: 0.0956 - acc: 0.9870 - val_loss: 1.0971 - val_acc: 0.8463\n",
            "Epoch 68/100\n",
            " - 7s - loss: 0.0919 - acc: 0.9876 - val_loss: 1.0973 - val_acc: 0.8451\n",
            "Epoch 69/100\n",
            " - 7s - loss: 0.0912 - acc: 0.9866 - val_loss: 1.1305 - val_acc: 0.8471\n",
            "Epoch 70/100\n",
            " - 7s - loss: 0.0838 - acc: 0.9876 - val_loss: 1.1148 - val_acc: 0.8443\n",
            "Epoch 71/100\n",
            " - 8s - loss: 0.0927 - acc: 0.9876 - val_loss: 1.1276 - val_acc: 0.8459\n",
            "Epoch 72/100\n",
            " - 8s - loss: 0.0814 - acc: 0.9881 - val_loss: 1.1818 - val_acc: 0.8437\n",
            "Epoch 73/100\n",
            " - 8s - loss: 0.0999 - acc: 0.9872 - val_loss: 1.1317 - val_acc: 0.8432\n",
            "Epoch 74/100\n",
            " - 7s - loss: 0.0864 - acc: 0.9880 - val_loss: 1.1398 - val_acc: 0.8440\n",
            "Epoch 75/100\n",
            " - 7s - loss: 0.0861 - acc: 0.9890 - val_loss: 1.1781 - val_acc: 0.8443\n",
            "Epoch 76/100\n",
            " - 8s - loss: 0.0869 - acc: 0.9882 - val_loss: 1.1554 - val_acc: 0.8450\n",
            "Epoch 77/100\n",
            " - 8s - loss: 0.0902 - acc: 0.9878 - val_loss: 1.1707 - val_acc: 0.8435\n",
            "Epoch 78/100\n",
            " - 8s - loss: 0.0873 - acc: 0.9885 - val_loss: 1.1535 - val_acc: 0.8459\n",
            "Epoch 79/100\n",
            " - 7s - loss: 0.0864 - acc: 0.9884 - val_loss: 1.1821 - val_acc: 0.8456\n",
            "Epoch 80/100\n",
            " - 7s - loss: 0.0829 - acc: 0.9884 - val_loss: 1.1727 - val_acc: 0.8446\n",
            "Epoch 81/100\n",
            " - 7s - loss: 0.0878 - acc: 0.9882 - val_loss: 1.1675 - val_acc: 0.8468\n",
            "Epoch 82/100\n",
            " - 7s - loss: 0.0791 - acc: 0.9893 - val_loss: 1.1826 - val_acc: 0.8454\n",
            "Epoch 83/100\n",
            " - 7s - loss: 0.0863 - acc: 0.9887 - val_loss: 1.1702 - val_acc: 0.8465\n",
            "Epoch 84/100\n",
            " - 7s - loss: 0.0783 - acc: 0.9895 - val_loss: 1.1910 - val_acc: 0.8471\n",
            "Epoch 85/100\n",
            " - 7s - loss: 0.0774 - acc: 0.9888 - val_loss: 1.1707 - val_acc: 0.8446\n",
            "Epoch 86/100\n",
            " - 8s - loss: 0.0928 - acc: 0.9881 - val_loss: 1.1635 - val_acc: 0.8438\n",
            "Epoch 87/100\n",
            " - 8s - loss: 0.0845 - acc: 0.9890 - val_loss: 1.1605 - val_acc: 0.8455\n",
            "Epoch 88/100\n",
            " - 7s - loss: 0.0804 - acc: 0.9895 - val_loss: 1.1784 - val_acc: 0.8431\n",
            "Epoch 89/100\n",
            " - 8s - loss: 0.0807 - acc: 0.9893 - val_loss: 1.1972 - val_acc: 0.8440\n",
            "Epoch 90/100\n",
            " - 8s - loss: 0.0980 - acc: 0.9878 - val_loss: 1.2120 - val_acc: 0.8444\n",
            "Epoch 91/100\n",
            " - 8s - loss: 0.0810 - acc: 0.9899 - val_loss: 1.2056 - val_acc: 0.8424\n",
            "Epoch 92/100\n",
            " - 8s - loss: 0.0922 - acc: 0.9885 - val_loss: 1.2301 - val_acc: 0.8399\n",
            "Epoch 93/100\n",
            " - 7s - loss: 0.0758 - acc: 0.9907 - val_loss: 1.2091 - val_acc: 0.8458\n",
            "Epoch 94/100\n",
            " - 7s - loss: 0.0780 - acc: 0.9894 - val_loss: 1.2031 - val_acc: 0.8433\n",
            "Epoch 95/100\n",
            " - 7s - loss: 0.0734 - acc: 0.9900 - val_loss: 1.2178 - val_acc: 0.8430\n",
            "Epoch 96/100\n",
            " - 7s - loss: 0.0807 - acc: 0.9898 - val_loss: 1.2289 - val_acc: 0.8428\n",
            "Epoch 97/100\n",
            " - 7s - loss: 0.0810 - acc: 0.9894 - val_loss: 1.2197 - val_acc: 0.8437\n",
            "Epoch 98/100\n",
            " - 7s - loss: 0.0777 - acc: 0.9904 - val_loss: 1.2232 - val_acc: 0.8434\n",
            "Epoch 99/100\n",
            " - 7s - loss: 0.0759 - acc: 0.9901 - val_loss: 1.2304 - val_acc: 0.8429\n",
            "Epoch 100/100\n",
            " - 7s - loss: 0.0817 - acc: 0.9906 - val_loss: 1.2243 - val_acc: 0.8428\n"
          ],
          "name": "stdout"
        }
      ]
    },
    {
      "cell_type": "markdown",
      "metadata": {
        "id": "C-KO9EqFgIew",
        "colab_type": "text"
      },
      "source": [
        "## Evaluating the model"
      ]
    },
    {
      "cell_type": "code",
      "metadata": {
        "id": "tuXn9ThAm6W5",
        "colab_type": "code",
        "outputId": "196c8891-0e30-492e-f1bb-ca52a31117e6",
        "colab": {
          "base_uri": "https://localhost:8080/",
          "height": 34
        }
      },
      "source": [
        "score = model.evaluate(X_test, y_test, verbose=2)\n",
        "\n",
        "print(\"Accuracy: {}\".format(score[1]))"
      ],
      "execution_count": 66,
      "outputs": [
        {
          "output_type": "stream",
          "text": [
            "Accuracy: 0.8428\n"
          ],
          "name": "stdout"
        }
      ]
    }
  ]
}